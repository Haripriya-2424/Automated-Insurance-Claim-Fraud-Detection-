{
 "cells": [
  {
   "cell_type": "code",
   "execution_count": 1,
   "id": "df75bb62",
   "metadata": {},
   "outputs": [
    {
     "name": "stdout",
     "output_type": "stream",
     "text": [
      "Anomaly flags are added.\n",
      "Total anomalies detected: 5860\n",
      "Total normal records: 52732\n"
     ]
    }
   ],
   "source": [
    "import pandas as pd\n",
    "from sklearn.ensemble import IsolationForest\n",
    "from sklearn.preprocessing import StandardScaler\n",
    "\n",
    "# Loading the cleaned data\n",
    "df = pd.read_csv(\"../data/Insurance claims data.csv\")\n",
    "\n",
    "# Droping the target column for unsupervised anomaly detection\n",
    "X = df.drop('claim_status', axis=1)\n",
    "\n",
    "# Scaling the data\n",
    "scaler = StandardScaler()\n",
    "X_scaled = scaler.fit_transform(X)\n",
    "\n",
    "# Applying Isolation Forest\n",
    "iso = IsolationForest(contamination=0.1, random_state=42)\n",
    "df['anomaly_flag'] = iso.fit_predict(X_scaled)\n",
    "\n",
    "# Anomalies are labeled as -1, normal as 1\n",
    "anomaly_count = (df['anomaly_flag'] == -1).sum()\n",
    "normal_count = (df['anomaly_flag'] == 1).sum()\n",
    "\n",
    "# Print results\n",
    "print(f\"Anomaly flags are added.\")\n",
    "print(f\"Total anomalies detected: {anomaly_count}\")\n",
    "print(f\"Total normal records: {normal_count}\")\n",
    "\n",
    "# Save updated dataset\n",
    "df.to_csv(\"../data/data_with_anomalies.csv\", index=False)\n"
   ]
  },
  {
   "cell_type": "code",
   "execution_count": null,
   "id": "2129db3e",
   "metadata": {},
   "outputs": [],
   "source": []
  }
 ],
 "metadata": {
  "kernelspec": {
   "display_name": "Python 3",
   "language": "python",
   "name": "python3"
  },
  "language_info": {
   "codemirror_mode": {
    "name": "ipython",
    "version": 3
   },
   "file_extension": ".py",
   "mimetype": "text/x-python",
   "name": "python",
   "nbconvert_exporter": "python",
   "pygments_lexer": "ipython3",
   "version": "3.12.3"
  }
 },
 "nbformat": 4,
 "nbformat_minor": 5
}
